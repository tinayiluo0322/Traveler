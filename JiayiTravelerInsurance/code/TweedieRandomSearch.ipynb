{
 "cells": [
  {
   "cell_type": "code",
   "execution_count": 1,
   "metadata": {},
   "outputs": [],
   "source": [
    "import pandas as pd\n",
    "import numpy as np\n",
    "\n",
    "pd.set_option(\"mode.copy_on_write\", True)\n",
    "\n",
    "import pandas as pd\n",
    "from sklearn import linear_model\n",
    "from sklearn.model_selection import RandomizedSearchCV, train_test_split\n",
    "from sklearn.linear_model import TweedieRegressor\n",
    "from sklearn.preprocessing import StandardScaler"
   ]
  },
  {
   "cell_type": "code",
   "execution_count": 2,
   "metadata": {},
   "outputs": [
    {
     "data": {
      "text/html": [
       "<div>\n",
       "<style scoped>\n",
       "    .dataframe tbody tr th:only-of-type {\n",
       "        vertical-align: middle;\n",
       "    }\n",
       "\n",
       "    .dataframe tbody tr th {\n",
       "        vertical-align: top;\n",
       "    }\n",
       "\n",
       "    .dataframe thead th {\n",
       "        text-align: right;\n",
       "    }\n",
       "</style>\n",
       "<table border=\"1\" class=\"dataframe\">\n",
       "  <thead>\n",
       "    <tr style=\"text-align: right;\">\n",
       "      <th></th>\n",
       "      <th>id</th>\n",
       "      <th>veh_value</th>\n",
       "      <th>exposure</th>\n",
       "      <th>veh_body</th>\n",
       "      <th>veh_age</th>\n",
       "      <th>gender</th>\n",
       "      <th>area</th>\n",
       "      <th>agecat</th>\n",
       "      <th>engine_type</th>\n",
       "      <th>max_power</th>\n",
       "      <th>...</th>\n",
       "      <th>marital_status</th>\n",
       "      <th>e_bill</th>\n",
       "      <th>time_of_week_driven</th>\n",
       "      <th>time_driven</th>\n",
       "      <th>trm_len</th>\n",
       "      <th>credit_score</th>\n",
       "      <th>high_education_ind</th>\n",
       "      <th>clm</th>\n",
       "      <th>numclaims</th>\n",
       "      <th>claimcst0</th>\n",
       "    </tr>\n",
       "  </thead>\n",
       "  <tbody>\n",
       "    <tr>\n",
       "      <th>0</th>\n",
       "      <td>1</td>\n",
       "      <td>0.77</td>\n",
       "      <td>0.444504</td>\n",
       "      <td>SEDAN</td>\n",
       "      <td>4</td>\n",
       "      <td>M</td>\n",
       "      <td>D</td>\n",
       "      <td>3</td>\n",
       "      <td>petrol</td>\n",
       "      <td>147</td>\n",
       "      <td>...</td>\n",
       "      <td>S</td>\n",
       "      <td>1</td>\n",
       "      <td>weekday</td>\n",
       "      <td>6pm - 12am</td>\n",
       "      <td>6</td>\n",
       "      <td>640.448137</td>\n",
       "      <td>1.0</td>\n",
       "      <td>0</td>\n",
       "      <td>0</td>\n",
       "      <td>0.0</td>\n",
       "    </tr>\n",
       "    <tr>\n",
       "      <th>1</th>\n",
       "      <td>2</td>\n",
       "      <td>4.45</td>\n",
       "      <td>0.562183</td>\n",
       "      <td>STNWG</td>\n",
       "      <td>1</td>\n",
       "      <td>M</td>\n",
       "      <td>A</td>\n",
       "      <td>3</td>\n",
       "      <td>petrol</td>\n",
       "      <td>158</td>\n",
       "      <td>...</td>\n",
       "      <td>S</td>\n",
       "      <td>1</td>\n",
       "      <td>weekday</td>\n",
       "      <td>6am - 12pm</td>\n",
       "      <td>12</td>\n",
       "      <td>683.749691</td>\n",
       "      <td>0.0</td>\n",
       "      <td>0</td>\n",
       "      <td>0</td>\n",
       "      <td>0.0</td>\n",
       "    </tr>\n",
       "    <tr>\n",
       "      <th>2</th>\n",
       "      <td>3</td>\n",
       "      <td>4.90</td>\n",
       "      <td>0.465244</td>\n",
       "      <td>STNWG</td>\n",
       "      <td>1</td>\n",
       "      <td>F</td>\n",
       "      <td>A</td>\n",
       "      <td>3</td>\n",
       "      <td>petrol</td>\n",
       "      <td>159</td>\n",
       "      <td>...</td>\n",
       "      <td>M</td>\n",
       "      <td>1</td>\n",
       "      <td>weekday</td>\n",
       "      <td>6pm - 12am</td>\n",
       "      <td>6</td>\n",
       "      <td>653.656117</td>\n",
       "      <td>1.0</td>\n",
       "      <td>0</td>\n",
       "      <td>0</td>\n",
       "      <td>0.0</td>\n",
       "    </tr>\n",
       "    <tr>\n",
       "      <th>3</th>\n",
       "      <td>4</td>\n",
       "      <td>0.48</td>\n",
       "      <td>0.271039</td>\n",
       "      <td>PANVN</td>\n",
       "      <td>4</td>\n",
       "      <td>M</td>\n",
       "      <td>A</td>\n",
       "      <td>4</td>\n",
       "      <td>petrol</td>\n",
       "      <td>80</td>\n",
       "      <td>...</td>\n",
       "      <td>S</td>\n",
       "      <td>1</td>\n",
       "      <td>weekday</td>\n",
       "      <td>12pm - 6pm</td>\n",
       "      <td>12</td>\n",
       "      <td>642.574671</td>\n",
       "      <td>0.0</td>\n",
       "      <td>0</td>\n",
       "      <td>0</td>\n",
       "      <td>0.0</td>\n",
       "    </tr>\n",
       "    <tr>\n",
       "      <th>4</th>\n",
       "      <td>5</td>\n",
       "      <td>0.85</td>\n",
       "      <td>0.141624</td>\n",
       "      <td>SEDAN</td>\n",
       "      <td>4</td>\n",
       "      <td>F</td>\n",
       "      <td>A</td>\n",
       "      <td>5</td>\n",
       "      <td>petrol</td>\n",
       "      <td>126</td>\n",
       "      <td>...</td>\n",
       "      <td>S</td>\n",
       "      <td>0</td>\n",
       "      <td>weekday</td>\n",
       "      <td>6am - 12pm</td>\n",
       "      <td>6</td>\n",
       "      <td>647.175035</td>\n",
       "      <td>0.0</td>\n",
       "      <td>0</td>\n",
       "      <td>0</td>\n",
       "      <td>0.0</td>\n",
       "    </tr>\n",
       "  </tbody>\n",
       "</table>\n",
       "<p>5 rows × 22 columns</p>\n",
       "</div>"
      ],
      "text/plain": [
       "   id  veh_value  exposure veh_body  veh_age gender area  agecat engine_type  \\\n",
       "0   1       0.77  0.444504    SEDAN        4      M    D       3      petrol   \n",
       "1   2       4.45  0.562183    STNWG        1      M    A       3      petrol   \n",
       "2   3       4.90  0.465244    STNWG        1      F    A       3      petrol   \n",
       "3   4       0.48  0.271039    PANVN        4      M    A       4      petrol   \n",
       "4   5       0.85  0.141624    SEDAN        4      F    A       5      petrol   \n",
       "\n",
       "   max_power  ...  marital_status e_bill time_of_week_driven  time_driven  \\\n",
       "0        147  ...               S      1             weekday   6pm - 12am   \n",
       "1        158  ...               S      1             weekday   6am - 12pm   \n",
       "2        159  ...               M      1             weekday   6pm - 12am   \n",
       "3         80  ...               S      1             weekday   12pm - 6pm   \n",
       "4        126  ...               S      0             weekday   6am - 12pm   \n",
       "\n",
       "  trm_len credit_score  high_education_ind  clm  numclaims  claimcst0  \n",
       "0       6   640.448137                 1.0    0          0        0.0  \n",
       "1      12   683.749691                 0.0    0          0        0.0  \n",
       "2       6   653.656117                 1.0    0          0        0.0  \n",
       "3      12   642.574671                 0.0    0          0        0.0  \n",
       "4       6   647.175035                 0.0    0          0        0.0  \n",
       "\n",
       "[5 rows x 22 columns]"
      ]
     },
     "execution_count": 2,
     "metadata": {},
     "output_type": "execute_result"
    }
   ],
   "source": [
    "df = pd.read_csv(\"../data/InsNova_data_2023_train.csv\")\n",
    "df.head()"
   ]
  },
  {
   "cell_type": "code",
   "execution_count": 3,
   "metadata": {},
   "outputs": [
    {
     "name": "stdout",
     "output_type": "stream",
     "text": [
      "<class 'pandas.core.frame.DataFrame'>\n",
      "RangeIndex: 22619 entries, 0 to 22618\n",
      "Data columns (total 22 columns):\n",
      " #   Column                 Non-Null Count  Dtype  \n",
      "---  ------                 --------------  -----  \n",
      " 0   id                     22619 non-null  int64  \n",
      " 1   veh_value              22619 non-null  float64\n",
      " 2   exposure               22619 non-null  float64\n",
      " 3   veh_body               22619 non-null  object \n",
      " 4   veh_age                22619 non-null  int64  \n",
      " 5   gender                 22619 non-null  object \n",
      " 6   area                   22619 non-null  object \n",
      " 7   agecat                 22619 non-null  int64  \n",
      " 8   engine_type            22619 non-null  object \n",
      " 9   max_power              22619 non-null  int64  \n",
      " 10  driving_history_score  22619 non-null  float64\n",
      " 11  veh_color              22619 non-null  object \n",
      " 12  marital_status         22619 non-null  object \n",
      " 13  e_bill                 22619 non-null  int64  \n",
      " 14  time_of_week_driven    22619 non-null  object \n",
      " 15  time_driven            22619 non-null  object \n",
      " 16  trm_len                22619 non-null  int64  \n",
      " 17  credit_score           22619 non-null  float64\n",
      " 18  high_education_ind     22619 non-null  float64\n",
      " 19  clm                    22619 non-null  int64  \n",
      " 20  numclaims              22619 non-null  int64  \n",
      " 21  claimcst0              22619 non-null  float64\n",
      "dtypes: float64(6), int64(8), object(8)\n",
      "memory usage: 3.8+ MB\n"
     ]
    }
   ],
   "source": [
    "df.info()"
   ]
  },
  {
   "cell_type": "code",
   "execution_count": 4,
   "metadata": {},
   "outputs": [],
   "source": [
    "df[\"high_education_ind\"] = df[\"high_education_ind\"].astype(\"object\")"
   ]
  },
  {
   "cell_type": "code",
   "execution_count": 5,
   "metadata": {},
   "outputs": [],
   "source": [
    "# Identify categorical columns\n",
    "categorical_cols = df.select_dtypes(include=[\"object\"]).columns"
   ]
  },
  {
   "cell_type": "code",
   "execution_count": 6,
   "metadata": {},
   "outputs": [],
   "source": [
    "# Perform one-hot encoding for categorical variables\n",
    "df = pd.get_dummies(df, columns=categorical_cols, drop_first=True)"
   ]
  },
  {
   "cell_type": "code",
   "execution_count": 7,
   "metadata": {},
   "outputs": [],
   "source": [
    "# Separate predictors and target\n",
    "X = df.drop(columns=[\"id\", \"clm\", \"numclaims\", \"claimcst0\"], axis=1)\n",
    "y = df[\"claimcst0\"]"
   ]
  },
  {
   "cell_type": "code",
   "execution_count": 8,
   "metadata": {},
   "outputs": [],
   "source": [
    "# Split the data into training and testing sets\n",
    "X_train, _, y_train, _ = train_test_split(X, y, test_size=0.2, random_state=42)"
   ]
  },
  {
   "cell_type": "code",
   "execution_count": 9,
   "metadata": {},
   "outputs": [],
   "source": [
    "# Standardize the features\n",
    "scaler = StandardScaler()\n",
    "X_train_scaled = scaler.fit_transform(X_train)"
   ]
  },
  {
   "cell_type": "code",
   "execution_count": 10,
   "metadata": {},
   "outputs": [],
   "source": [
    "model = linear_model.TweedieRegressor()"
   ]
  },
  {
   "cell_type": "code",
   "execution_count": 42,
   "metadata": {},
   "outputs": [],
   "source": [
    "# Define the parameter distribution for random search\n",
    "param_dist = {\n",
    "    \"power\": np.arange(0, 2.0, 0.01),  # Adjust as needed\n",
    "    \"alpha\": np.arange(0, 1.0, 0.01),  # Adjust as needed\n",
    "    \"max_iter\": np.arange(10000, 50000, 1000),\n",
    "    \"solver\": [\"lbfgs\", \"newton-cholesky\"],\n",
    "    \"warm_start\": [True, False],\n",
    "}\n",
    "\n",
    "# Create the random search with cross-validation\n",
    "random_search = RandomizedSearchCV(\n",
    "    model,\n",
    "    param_distributions=param_dist,\n",
    "    n_iter=10,\n",
    "    cv=5,\n",
    "    scoring=\"neg_mean_squared_error\",\n",
    "    n_jobs=-1,\n",
    "    random_state=42,\n",
    ")"
   ]
  },
  {
   "cell_type": "code",
   "execution_count": 43,
   "metadata": {},
   "outputs": [
    {
     "name": "stderr",
     "output_type": "stream",
     "text": [
      "/Users/jiayizhou/miniconda3/lib/python3.11/site-packages/sklearn/linear_model/_linear_loss.py:290: RuntimeWarning: invalid value encountered in matmul\n",
      "  grad[:n_features] = X.T @ grad_pointwise + l2_reg_strength * weights\n"
     ]
    },
    {
     "name": "stdout",
     "output_type": "stream",
     "text": [
      "Best Parameters:  {'warm_start': False, 'solver': 'newton-cholesky', 'power': 1.85, 'max_iter': 45000, 'alpha': 0.52}\n",
      "Best Negative Mean Squared Error:  -1533056.752200898\n"
     ]
    },
    {
     "name": "stderr",
     "output_type": "stream",
     "text": [
      "/Users/jiayizhou/miniconda3/lib/python3.11/site-packages/sklearn/linear_model/_glm/glm.py:282: ConvergenceWarning: lbfgs failed to converge (status=2):\n",
      "ABNORMAL_TERMINATION_IN_LNSRCH.\n",
      "\n",
      "Increase the number of iterations (max_iter) or scale the data as shown in:\n",
      "    https://scikit-learn.org/stable/modules/preprocessing.html\n",
      "  self.n_iter_ = _check_optimize_result(\"lbfgs\", opt_res)\n"
     ]
    }
   ],
   "source": [
    "# Fit the grid search to the data\n",
    "random_search.fit(X_train_scaled, y_train)\n",
    "\n",
    "# Print the best parameters and corresponding score\n",
    "print(\"Best Parameters: \", random_search.best_params_)\n",
    "print(\"Best Negative Mean Squared Error: \", random_search.best_score_)"
   ]
  },
  {
   "cell_type": "markdown",
   "metadata": {},
   "source": [
    "## Test Prediction"
   ]
  },
  {
   "cell_type": "code",
   "execution_count": 13,
   "metadata": {},
   "outputs": [],
   "source": [
    "test = pd.read_csv(\"../data/InsNova_data_2023_vh.csv\")"
   ]
  },
  {
   "cell_type": "code",
   "execution_count": 14,
   "metadata": {},
   "outputs": [],
   "source": [
    "test[\"high_education_ind\"] = test[\"high_education_ind\"].astype(\"object\")"
   ]
  },
  {
   "cell_type": "code",
   "execution_count": 15,
   "metadata": {},
   "outputs": [],
   "source": [
    "# Identify categorical columns\n",
    "categorical_cols = test.select_dtypes(include=[\"object\"]).columns\n",
    "# Perform one-hot encoding for categorical variables\n",
    "test = pd.get_dummies(test, columns=categorical_cols, drop_first=True)\n",
    "test = test.rename(columns={\"high_education_ind_1\": \"high_education_ind_1.0\"})\n",
    "# Separate predictors and target\n",
    "X_test = test.drop(columns=[\"id\"], axis=1)"
   ]
  },
  {
   "cell_type": "code",
   "execution_count": 37,
   "metadata": {},
   "outputs": [],
   "source": [
    "# Optionally, you can also evaluate the model on the test set\n",
    "best_model = random_search.best_estimator_\n",
    "X_test_scaled = scaler.transform(X_test)\n",
    "y_pred = best_model.predict(X_test_scaled)\n",
    "# Clip the predictions to be non-negative\n",
    "y_pred = np.clip(y_pred, a_min=0, a_max=None)"
   ]
  },
  {
   "cell_type": "code",
   "execution_count": 38,
   "metadata": {},
   "outputs": [],
   "source": [
    "test[\"Predict\"] = y_pred"
   ]
  },
  {
   "cell_type": "code",
   "execution_count": 39,
   "metadata": {},
   "outputs": [
    {
     "data": {
      "text/plain": [
       "count    22620.000000\n",
       "mean       156.594343\n",
       "std         78.015021\n",
       "min          3.605516\n",
       "25%        100.988801\n",
       "50%        139.148913\n",
       "75%        193.956057\n",
       "max        891.222313\n",
       "Name: Predict, dtype: float64"
      ]
     },
     "execution_count": 39,
     "metadata": {},
     "output_type": "execute_result"
    }
   ],
   "source": [
    "test[\"Predict\"].describe()"
   ]
  },
  {
   "cell_type": "code",
   "execution_count": 26,
   "metadata": {},
   "outputs": [
    {
     "data": {
      "text/html": [
       "<div>\n",
       "<style scoped>\n",
       "    .dataframe tbody tr th:only-of-type {\n",
       "        vertical-align: middle;\n",
       "    }\n",
       "\n",
       "    .dataframe tbody tr th {\n",
       "        vertical-align: top;\n",
       "    }\n",
       "\n",
       "    .dataframe thead th {\n",
       "        text-align: right;\n",
       "    }\n",
       "</style>\n",
       "<table border=\"1\" class=\"dataframe\">\n",
       "  <thead>\n",
       "    <tr style=\"text-align: right;\">\n",
       "      <th></th>\n",
       "      <th>id</th>\n",
       "      <th>Predict</th>\n",
       "    </tr>\n",
       "  </thead>\n",
       "  <tbody>\n",
       "    <tr>\n",
       "      <th>0</th>\n",
       "      <td>1</td>\n",
       "      <td>113.342171</td>\n",
       "    </tr>\n",
       "    <tr>\n",
       "      <th>1</th>\n",
       "      <td>2</td>\n",
       "      <td>81.703972</td>\n",
       "    </tr>\n",
       "    <tr>\n",
       "      <th>2</th>\n",
       "      <td>3</td>\n",
       "      <td>46.781379</td>\n",
       "    </tr>\n",
       "    <tr>\n",
       "      <th>3</th>\n",
       "      <td>4</td>\n",
       "      <td>212.705788</td>\n",
       "    </tr>\n",
       "    <tr>\n",
       "      <th>4</th>\n",
       "      <td>5</td>\n",
       "      <td>83.575761</td>\n",
       "    </tr>\n",
       "    <tr>\n",
       "      <th>...</th>\n",
       "      <td>...</td>\n",
       "      <td>...</td>\n",
       "    </tr>\n",
       "    <tr>\n",
       "      <th>22615</th>\n",
       "      <td>22616</td>\n",
       "      <td>151.930237</td>\n",
       "    </tr>\n",
       "    <tr>\n",
       "      <th>22616</th>\n",
       "      <td>22617</td>\n",
       "      <td>151.179687</td>\n",
       "    </tr>\n",
       "    <tr>\n",
       "      <th>22617</th>\n",
       "      <td>22618</td>\n",
       "      <td>256.088261</td>\n",
       "    </tr>\n",
       "    <tr>\n",
       "      <th>22618</th>\n",
       "      <td>22619</td>\n",
       "      <td>232.978892</td>\n",
       "    </tr>\n",
       "    <tr>\n",
       "      <th>22619</th>\n",
       "      <td>22620</td>\n",
       "      <td>335.199493</td>\n",
       "    </tr>\n",
       "  </tbody>\n",
       "</table>\n",
       "<p>22620 rows × 2 columns</p>\n",
       "</div>"
      ],
      "text/plain": [
       "          id     Predict\n",
       "0          1  113.342171\n",
       "1          2   81.703972\n",
       "2          3   46.781379\n",
       "3          4  212.705788\n",
       "4          5   83.575761\n",
       "...      ...         ...\n",
       "22615  22616  151.930237\n",
       "22616  22617  151.179687\n",
       "22617  22618  256.088261\n",
       "22618  22619  232.978892\n",
       "22619  22620  335.199493\n",
       "\n",
       "[22620 rows x 2 columns]"
      ]
     },
     "execution_count": 26,
     "metadata": {},
     "output_type": "execute_result"
    }
   ],
   "source": [
    "submission = test[[\"id\", \"Predict\"]]\n",
    "submission"
   ]
  },
  {
   "cell_type": "code",
   "execution_count": 20,
   "metadata": {},
   "outputs": [],
   "source": [
    "submission.to_csv(\"../output/Tweedie_random_submission.csv\", index=False)"
   ]
  }
 ],
 "metadata": {
  "kernelspec": {
   "display_name": "base",
   "language": "python",
   "name": "python3"
  },
  "language_info": {
   "codemirror_mode": {
    "name": "ipython",
    "version": 3
   },
   "file_extension": ".py",
   "mimetype": "text/x-python",
   "name": "python",
   "nbconvert_exporter": "python",
   "pygments_lexer": "ipython3",
   "version": "3.11.5"
  }
 },
 "nbformat": 4,
 "nbformat_minor": 2
}
